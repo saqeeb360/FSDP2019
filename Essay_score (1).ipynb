{
  "nbformat": 4,
  "nbformat_minor": 0,
  "metadata": {
    "colab": {
      "name": "Essay_score.ipynb",
      "version": "0.3.2",
      "provenance": [],
      "collapsed_sections": []
    },
    "kernelspec": {
      "name": "python3",
      "display_name": "Python 3"
    },
    "accelerator": "GPU"
  },
  "cells": [
    {
      "cell_type": "code",
      "metadata": {
        "id": "waku2BVXcml1",
        "colab_type": "code",
        "colab": {}
      },
      "source": [
        "\"\"\"\n",
        "author - Saqeeb and Shamim Banu\n",
        "\n",
        "\n",
        "\n",
        "https://github.com/shubhpawar/Automated-Essay-Scoring/blob/master/automated_essay_scoring.ipynb\n",
        "https://www.commonlounge.com/discussion/99e86c9c15bb4d23a30b111b23e7b7b1\n",
        "https://github.com/mankadronit/Automated-Essay--Scoring/blob/master/Training%20LSTM%20Model.ipynb\n",
        "https://kevinloughlin.github.io/Automated-Essay-Grading/\n",
        "\"\"\""
      ],
      "execution_count": 0,
      "outputs": []
    },
    {
      "cell_type": "code",
      "metadata": {
        "id": "ottGolehC4c3",
        "colab_type": "code",
        "colab": {}
      },
      "source": [
        "import pandas as pd\n",
        "import numpy as np\n",
        "import matplotlib.pyplot as plt\n",
        "import re\n",
        "import nltk\n",
        "\n"
      ],
      "execution_count": 0,
      "outputs": []
    },
    {
      "cell_type": "code",
      "metadata": {
        "id": "6TGOIWRKB1aa",
        "colab_type": "code",
        "colab": {
          "base_uri": "https://localhost:8080/",
          "height": 34
        },
        "outputId": "02e70ffe-403e-4a3f-ed50-26b83403d9e3"
      },
      "source": [
        "from google.colab import drive\n",
        "drive.mount('/content/drive/')"
      ],
      "execution_count": 2,
      "outputs": [
        {
          "output_type": "stream",
          "text": [
            "Drive already mounted at /content/drive/; to attempt to forcibly remount, call drive.mount(\"/content/drive/\", force_remount=True).\n"
          ],
          "name": "stdout"
        }
      ]
    },
    {
      "cell_type": "code",
      "metadata": {
        "id": "z6rTEfi-mpHw",
        "colab_type": "code",
        "colab": {
          "base_uri": "https://localhost:8080/",
          "height": 34
        },
        "outputId": "573834f0-4966-4ce2-fc14-78e2d214e30e"
      },
      "source": [
        "import os\n",
        "!ls"
      ],
      "execution_count": 3,
      "outputs": [
        {
          "output_type": "stream",
          "text": [
            "drive  sample_data\n"
          ],
          "name": "stdout"
        }
      ]
    },
    {
      "cell_type": "code",
      "metadata": {
        "id": "QyVVWz1QLr0Z",
        "colab_type": "code",
        "colab": {}
      },
      "source": [
        "os.chdir(\"/content/drive/My Drive/Essay_score\")"
      ],
      "execution_count": 0,
      "outputs": []
    },
    {
      "cell_type": "code",
      "metadata": {
        "id": "RP4lKyZB0Zcl",
        "colab_type": "code",
        "colab": {
          "base_uri": "https://localhost:8080/",
          "height": 153
        },
        "outputId": "e72c880d-de6b-4c27-f775-348788e63e6a"
      },
      "source": [
        "!ls\n"
      ],
      "execution_count": 5,
      "outputs": [
        {
          "output_type": "stream",
          "text": [
            "Essay_scoring.py\tvalid_sample_submission_1_column.csv\n",
            "Essay_Set_Descriptions\tvalid_sample_submission_1_column_no_header.csv\n",
            "new_df.csv\t\tvalid_sample_submission_2_column.csv\n",
            "test_set.tsv\t\tvalid_sample_submission_5_column.csv\n",
            "Training_Materials\tvalid_set.tsv\n",
            "training_set_rel3.tsv\tvalid_set.xls\n",
            "training_set_rel3.xls\tvalid_set.xlsx\n",
            "training_set_rel3.xlsx\n"
          ],
          "name": "stdout"
        }
      ]
    },
    {
      "cell_type": "code",
      "metadata": {
        "id": "ybMBGKYB0fPi",
        "colab_type": "code",
        "colab": {}
      },
      "source": [
        "df = pd.read_csv(\"training_set_rel3.tsv\", delimiter = \"\\t\",encoding='charmap')\n",
        "#new_df = pd.read_csv('new_df.csv',encoding='charmap')\n",
        "df = df.iloc[:,[0,1,2,6]]\n"
      ],
      "execution_count": 0,
      "outputs": []
    },
    {
      "cell_type": "code",
      "metadata": {
        "id": "ymj-sZ5EabRo",
        "colab_type": "code",
        "colab": {}
      },
      "source": [
        "df1.shape"
      ],
      "execution_count": 0,
      "outputs": []
    },
    {
      "cell_type": "code",
      "metadata": {
        "id": "-s1dkSeB1Lwz",
        "colab_type": "code",
        "colab": {}
      },
      "source": [
        "def sent_count(x):\n",
        "    essay = str(x)\n",
        "    essay = essay.split(\".\")\n",
        "    return len(essay)\n",
        "\n",
        "\n",
        "df['sent_count'] = df['essay'].apply(sent_count)\n"
      ],
      "execution_count": 0,
      "outputs": []
    },
    {
      "cell_type": "code",
      "metadata": {
        "id": "28fw8Lmld-JZ",
        "colab_type": "code",
        "colab": {}
      },
      "source": [
        "\"\"\"\n",
        "Average sentence length\n",
        "\n",
        "\"\"\"\n",
        "\n",
        "def av_sent_len(x):\n",
        "    essay = str(x)\n",
        "    word_count = len(essay.split())\n",
        "    sent_count = len(essay.split(\".\"))\n",
        "    return int(word_count/sent_count)\n",
        "\n",
        "\n",
        "df['av_sent_len'] = df['essay'].apply(av_sent_len)\n"
      ],
      "execution_count": 0,
      "outputs": []
    },
    {
      "cell_type": "code",
      "metadata": {
        "id": "XJ1pPDlPbEq_",
        "colab_type": "code",
        "colab": {
          "base_uri": "https://localhost:8080/",
          "height": 68
        },
        "outputId": "96087962-f861-4e5d-ce39-d81335e11458"
      },
      "source": [
        "nltk.download('punkt')"
      ],
      "execution_count": 9,
      "outputs": [
        {
          "output_type": "stream",
          "text": [
            "[nltk_data] Downloading package punkt to /root/nltk_data...\n",
            "[nltk_data]   Package punkt is already up-to-date!\n"
          ],
          "name": "stdout"
        },
        {
          "output_type": "execute_result",
          "data": {
            "text/plain": [
              "True"
            ]
          },
          "metadata": {
            "tags": []
          },
          "execution_count": 9
        }
      ]
    },
    {
      "cell_type": "code",
      "metadata": {
        "id": "PYofVfzCaw6Z",
        "colab_type": "code",
        "colab": {}
      },
      "source": [
        "\"\"\"\n",
        "Cleaning the essay\n",
        "\n",
        "\"\"\"\n",
        "\n",
        "def clean_essay(x):\n",
        "  x = re.sub(r'@[A-Z]{2,}\\d?,?\\'?s? ?','',str(x))\n",
        "  x = re.sub(r'[^a-zA-Z ]','',x)\n",
        "  x = nltk.word_tokenize(x)\n",
        "  x = \" \".join(x)\n",
        "  return x\n",
        "\n",
        "df['essay'] = df['essay'].apply(clean_essay)\n"
      ],
      "execution_count": 0,
      "outputs": []
    },
    {
      "cell_type": "code",
      "metadata": {
        "id": "pkk7EyUda4pQ",
        "colab_type": "code",
        "colab": {}
      },
      "source": [
        "\n",
        "\"\"\"\n",
        "Adding word count\n",
        "\n",
        "\"\"\"\n",
        "\n",
        "def word_count(x):\n",
        "  essay = str(x)\n",
        "  essay = essay.split()\n",
        "  return len(essay)\n",
        "    \n",
        "    \n",
        "df['word_count'] = df['essay'].apply(word_count)\n",
        "\n"
      ],
      "execution_count": 0,
      "outputs": []
    },
    {
      "cell_type": "code",
      "metadata": {
        "id": "yMmXzQg9bcUc",
        "colab_type": "code",
        "colab": {
          "base_uri": "https://localhost:8080/",
          "height": 68
        },
        "outputId": "dbc86971-bd02-4a64-85bd-351e32e2e5b3"
      },
      "source": [
        "nltk.download('stopwords')"
      ],
      "execution_count": 12,
      "outputs": [
        {
          "output_type": "stream",
          "text": [
            "[nltk_data] Downloading package stopwords to /root/nltk_data...\n",
            "[nltk_data]   Package stopwords is already up-to-date!\n"
          ],
          "name": "stdout"
        },
        {
          "output_type": "execute_result",
          "data": {
            "text/plain": [
              "True"
            ]
          },
          "metadata": {
            "tags": []
          },
          "execution_count": 12
        }
      ]
    },
    {
      "cell_type": "code",
      "metadata": {
        "id": "v5TDlQ5ua4nF",
        "colab_type": "code",
        "colab": {}
      },
      "source": [
        "\n",
        "\"\"\"\n",
        "Number of distinct words in a essay\n",
        "\n",
        "\"\"\"\n",
        "\n",
        "from nltk.corpus import stopwords\n",
        "#from nltk.stem.wordnet import WordNetLemmatizer \n",
        "from nltk.stem.porter import PorterStemmer\n",
        "ps = PorterStemmer()\n",
        "stop_word = set(stopwords.words('english'))\n",
        "def uni_word_count(x):\n",
        "    essay = str(x).lower()\n",
        "    uniq_word = essay.split()\n",
        "    uniq_word = [ps.stem(word) for word in uniq_word if not word in stop_word]\n",
        "    uniq_word = list(set(essay.split()))   \n",
        "    return len(uniq_word)\n",
        "\n",
        "\n",
        "df['uni_word_count'] = df['essay'].apply(uni_word_count)\n"
      ],
      "execution_count": 0,
      "outputs": []
    },
    {
      "cell_type": "code",
      "metadata": {
        "id": "rFleUNtXbsMW",
        "colab_type": "code",
        "colab": {
          "base_uri": "https://localhost:8080/",
          "height": 102
        },
        "outputId": "a8ece304-9ba4-474a-cbb3-49465fb9863d"
      },
      "source": [
        "nltk.download('averaged_perceptron_tagger')"
      ],
      "execution_count": 14,
      "outputs": [
        {
          "output_type": "stream",
          "text": [
            "[nltk_data] Downloading package averaged_perceptron_tagger to\n",
            "[nltk_data]     /root/nltk_data...\n",
            "[nltk_data]   Package averaged_perceptron_tagger is already up-to-\n",
            "[nltk_data]       date!\n"
          ],
          "name": "stdout"
        },
        {
          "output_type": "execute_result",
          "data": {
            "text/plain": [
              "True"
            ]
          },
          "metadata": {
            "tags": []
          },
          "execution_count": 14
        }
      ]
    },
    {
      "cell_type": "code",
      "metadata": {
        "id": "2IOCCcbVa4lC",
        "colab_type": "code",
        "colab": {}
      },
      "source": [
        "\"\"\"\n",
        "Nouns_count\n",
        "\n",
        "\"\"\"\n",
        "import nltk\n",
        "#from textblob import TextBlob\n",
        "#import spacy\n",
        "#nlp = spacy.load('en')\n",
        "#nlp1 = spacy.load('en_core_web_lg')\n",
        "\n",
        "def noun_count(x):\n",
        "    x = str(x).lower()\n",
        "    x = nltk.word_tokenize(x)\n",
        "    x = nltk.pos_tag(x)\n",
        "    list1 = ([word for (word, pos) in x if pos[0] == 'N'])\n",
        "    return len(list1)\n",
        "\n",
        "df['noun_count'] = df['essay'].apply(noun_count)\n",
        "\n"
      ],
      "execution_count": 0,
      "outputs": []
    },
    {
      "cell_type": "code",
      "metadata": {
        "id": "94AaPs3Oa4jJ",
        "colab_type": "code",
        "colab": {}
      },
      "source": [
        "\"\"\"\n",
        "Verb_count\n",
        "\n",
        "\"\"\"\n",
        "\n",
        "def verb_count(x):\n",
        "    x = str(x).lower()\n",
        "    x = nltk.word_tokenize(x)\n",
        "    x = nltk.pos_tag(x)\n",
        "    list1 = ([word for (word, pos) in x if pos[0] == 'V'])\n",
        "    return len(list1)\n",
        "\n",
        "df['verb_count'] = df['essay'].apply(verb_count)\n",
        "\n"
      ],
      "execution_count": 0,
      "outputs": []
    },
    {
      "cell_type": "code",
      "metadata": {
        "id": "W58goQWkQu-G",
        "colab_type": "code",
        "colab": {}
      },
      "source": [
        "df1 = df[df['essay_set'] == 1]\n",
        "df2 = df[df['essay_set'] == 2]\n",
        "df3 = df[df['essay_set'] == 3]\n",
        "df4 = df[df['essay_set'] == 4]\n",
        "df5 = df[df['essay_set'] == 5]\n",
        "df6 = df[df['essay_set'] == 6]\n",
        "df7 = df[df['essay_set'] == 7]\n",
        "df8 = df[df['essay_set'] == 8]\n"
      ],
      "execution_count": 0,
      "outputs": []
    },
    {
      "cell_type": "code",
      "metadata": {
        "id": "rXl4YTriT5Q8",
        "colab_type": "code",
        "colab": {
          "base_uri": "https://localhost:8080/",
          "height": 204
        },
        "outputId": "3e00d9d9-703a-4bd6-a5a0-7e4e01281330"
      },
      "source": [
        "df1.iloc[1,:]"
      ],
      "execution_count": 17,
      "outputs": [
        {
          "output_type": "execute_result",
          "data": {
            "text/plain": [
              "essay_id                                                          2\n",
              "essay_set                                                         1\n",
              "essay             Dear I believe that using computers will benef...\n",
              "domain1_score                                                     9\n",
              "sent_count                                                       19\n",
              "av_sent_len                                                      22\n",
              "word_count                                                      409\n",
              "uni_word_count                                                  186\n",
              "noun_count                                                       99\n",
              "verb_count                                                       87\n",
              "Name: 1, dtype: object"
            ]
          },
          "metadata": {
            "tags": []
          },
          "execution_count": 17
        }
      ]
    },
    {
      "cell_type": "code",
      "metadata": {
        "id": "v1Z2_p3Wa4gH",
        "colab_type": "code",
        "colab": {}
      },
      "source": [
        "\"\"\"\n",
        "Making a ndarray for training set\n",
        "Features and label\n",
        "Also we need to tokenize the df\n",
        "\"\"\"\n",
        "\n",
        "\n",
        "from sklearn.feature_extraction.text import CountVectorizer\n",
        "cv = CountVectorizer(max_features = 10000, stop_words='english')\n",
        "features = cv.fit_transform(df['essay'])\n",
        "features = features.toarray()\n",
        "\n",
        "\n",
        "temp = df.iloc[:,[1,4,6,7,8,9]].values\n",
        "features = np.hstack((temp , features))\n",
        "#import numpy\n",
        "#numpy.savetxt(\"df.csv\", features , delimiter = \",\")\n"
      ],
      "execution_count": 0,
      "outputs": []
    },
    {
      "cell_type": "code",
      "metadata": {
        "id": "SUtesx_TVqA1",
        "colab_type": "code",
        "colab": {}
      },
      "source": [
        ""
      ],
      "execution_count": 0,
      "outputs": []
    },
    {
      "cell_type": "code",
      "metadata": {
        "id": "d-KGSUxIVE9F",
        "colab_type": "code",
        "colab": {}
      },
      "source": [
        "from sklearn.preprocessing import StandardScaler\n",
        "sc1 = StandardScaler()\n",
        "labels_1 = df1.iloc[:, [3]].values\n",
        "labels_1= sc1.fit_transform(labels_1)\n",
        "\n",
        "sc2 = StandardScaler()\n",
        "labels_2 = df2.iloc[:, [3]].values\n",
        "labels_2= sc2.fit_transform(labels_2)\n",
        "\n",
        "sc3 = StandardScaler()\n",
        "labels_3 = df3.iloc[:, [3]].values\n",
        "labels_3= sc3.fit_transform(labels_3)\n",
        "\n",
        "sc4 = StandardScaler()\n",
        "labels_4= df4.iloc[:, [3]].values\n",
        "labels_4= sc4.fit_transform(labels_4)\n",
        "\n",
        "sc5 = StandardScaler()\n",
        "labels_5 = df5.iloc[:, [3]].values\n",
        "labels_5= sc5.fit_transform(labels_5)\n",
        "\n",
        "sc6 = StandardScaler()\n",
        "labels_6 = df6.iloc[:, [3]].values\n",
        "labels_6= sc6.fit_transform(labels_6)\n",
        "\n",
        "sc7 = StandardScaler()\n",
        "labels_7 = df7.iloc[:, [3]].values\n",
        "labels_7= sc7.fit_transform(labels_7)\n",
        "\n",
        "sc8 = StandardScaler()\n",
        "labels_8 = df8.iloc[:, [3]].values\n",
        "labels_8= sc8.fit_transform(labels_8)\n",
        "\n"
      ],
      "execution_count": 0,
      "outputs": []
    },
    {
      "cell_type": "code",
      "metadata": {
        "id": "_sCoyDjLXu2s",
        "colab_type": "code",
        "colab": {}
      },
      "source": [
        "labels = np.concatenate((labels_1,labels_2,labels_3,labels_4,labels_5,labels_6,labels_7,labels_8))"
      ],
      "execution_count": 0,
      "outputs": []
    },
    {
      "cell_type": "code",
      "metadata": {
        "id": "y-YtS-82Yf50",
        "colab_type": "code",
        "colab": {
          "base_uri": "https://localhost:8080/",
          "height": 34
        },
        "outputId": "833010a4-b190-44c3-ca27-69514df260ad"
      },
      "source": [
        "labels.shape , features.shape"
      ],
      "execution_count": 21,
      "outputs": [
        {
          "output_type": "execute_result",
          "data": {
            "text/plain": [
              "((12976, 1), (12976, 10006))"
            ]
          },
          "metadata": {
            "tags": []
          },
          "execution_count": 21
        }
      ]
    },
    {
      "cell_type": "code",
      "metadata": {
        "id": "9OZ-x5UKJGU6",
        "colab_type": "code",
        "colab": {
          "base_uri": "https://localhost:8080/",
          "height": 139
        },
        "outputId": "9db926a5-462e-4e40-ab8a-d7208bf020a4"
      },
      "source": [
        "from sklearn.preprocessing import OneHotEncoder\n",
        "onehotencoder = OneHotEncoder(categorical_features= [0])\n",
        "features = onehotencoder.fit_transform(features).toarray()\n",
        "features = features[:,1:]"
      ],
      "execution_count": 22,
      "outputs": [
        {
          "output_type": "stream",
          "text": [
            "/usr/local/lib/python3.6/dist-packages/sklearn/preprocessing/_encoders.py:415: FutureWarning: The handling of integer data will change in version 0.22. Currently, the categories are determined based on the range [0, max(values)], while in the future they will be determined based on the unique values.\n",
            "If you want the future behaviour and silence this warning, you can specify \"categories='auto'\".\n",
            "In case you used a LabelEncoder before this OneHotEncoder to convert the categories to integers, then you can now use the OneHotEncoder directly.\n",
            "  warnings.warn(msg, FutureWarning)\n",
            "/usr/local/lib/python3.6/dist-packages/sklearn/preprocessing/_encoders.py:451: DeprecationWarning: The 'categorical_features' keyword is deprecated in version 0.20 and will be removed in 0.22. You can use the ColumnTransformer instead.\n",
            "  \"use the ColumnTransformer instead.\", DeprecationWarning)\n"
          ],
          "name": "stderr"
        }
      ]
    },
    {
      "cell_type": "code",
      "metadata": {
        "id": "Ivla9JthewUM",
        "colab_type": "code",
        "colab": {}
      },
      "source": [
        "from sklearn.preprocessing import StandardScaler\n",
        "sc = StandardScaler()\n",
        "features_train = sc.fit_transform(features)\n"
      ],
      "execution_count": 0,
      "outputs": []
    },
    {
      "cell_type": "code",
      "metadata": {
        "id": "9VrwmXvHa4eL",
        "colab_type": "code",
        "colab": {
          "base_uri": "https://localhost:8080/",
          "height": 34
        },
        "outputId": "cfbd9644-8b58-4fc2-e291-982784040d96"
      },
      "source": [
        "len(features[1])"
      ],
      "execution_count": 26,
      "outputs": [
        {
          "output_type": "execute_result",
          "data": {
            "text/plain": [
              "10012"
            ]
          },
          "metadata": {
            "tags": []
          },
          "execution_count": 26
        }
      ]
    },
    {
      "cell_type": "code",
      "metadata": {
        "id": "M9LBaXZGdlOA",
        "colab_type": "code",
        "colab": {
          "base_uri": "https://localhost:8080/",
          "height": 51
        },
        "outputId": "1a0681af-61da-4a11-d375-b3e4a35b8ad4"
      },
      "source": [
        "features_train[0,:10]"
      ],
      "execution_count": 30,
      "outputs": [
        {
          "output_type": "execute_result",
          "data": {
            "text/plain": [
              "array([-0.40132208, -0.39169149, -0.39743062, -0.40196901, -0.40132208,\n",
              "       -0.37087346, -0.24291142, -0.21323966,  0.67191396,  0.83560637])"
            ]
          },
          "metadata": {
            "tags": []
          },
          "execution_count": 30
        }
      ]
    },
    {
      "cell_type": "code",
      "metadata": {
        "id": "W-Lj4Ji1ggwb",
        "colab_type": "code",
        "colab": {}
      },
      "source": [
        "#from sklearn.model_selection import train_test_split\n",
        "#features_train, features_test, labels_train, labels_test = train_test_split(features_train, labels, test_size = 0.3, random_state = 0)\n"
      ],
      "execution_count": 0,
      "outputs": []
    },
    {
      "cell_type": "code",
      "metadata": {
        "id": "fRd4snJwa4bb",
        "colab_type": "code",
        "colab": {}
      },
      "source": [
        ""
      ],
      "execution_count": 0,
      "outputs": []
    },
    {
      "cell_type": "code",
      "metadata": {
        "id": "UkPf1e6I3AaT",
        "colab_type": "code",
        "colab": {}
      },
      "source": [
        "import matplotlib.pyplot as plt\n",
        "plt.scatter(x = df.iloc[:1783,3], y=df.iloc[:1783,4])\n",
        "plt.show()  \n",
        "plt.scatter(x = df.iloc[:1783,3], y=df.iloc[:1783,5])\n",
        "plt.show()  \n",
        "plt.scatter(x = df.iloc[:1783,3], y=df.iloc[:1783,6])\n",
        "plt.show()  \n",
        "plt.scatter(x = df.iloc[:1783,3], y=df.iloc[:1783,7])\n",
        "plt.show()  \n",
        "plt.scatter(x = df.iloc[:1783,3], y=df.iloc[:1783,8])\n",
        "plt.show()  \n",
        "plt.scatter(x = df.iloc[:1783,3], y=df.iloc[:1783,9])\n",
        "plt.show()  \n",
        "plt.scatter(x = df.iloc[:1783,3], y=df.iloc[:1783,3])\n",
        "plt.show()  \n",
        "\n",
        " "
      ],
      "execution_count": 0,
      "outputs": []
    },
    {
      "cell_type": "code",
      "metadata": {
        "id": "KAxWyVeA7J0i",
        "colab_type": "code",
        "colab": {}
      },
      "source": [
        "\"\"\"\n",
        "Training from the data\n",
        "\"\"\""
      ],
      "execution_count": 0,
      "outputs": []
    },
    {
      "cell_type": "code",
      "metadata": {
        "id": "rVR8UyodewR-",
        "colab_type": "code",
        "colab": {
          "base_uri": "https://localhost:8080/",
          "height": 34
        },
        "outputId": "e260772e-e108-446e-f50b-8b8810a50879"
      },
      "source": [
        "# Importing the Keras libraries and packages\n",
        "import keras\n",
        "from keras.models import Sequential\n",
        "from keras.layers import Dense"
      ],
      "execution_count": 24,
      "outputs": [
        {
          "output_type": "stream",
          "text": [
            "Using TensorFlow backend.\n"
          ],
          "name": "stderr"
        }
      ]
    },
    {
      "cell_type": "code",
      "metadata": {
        "id": "5d-erQ33ewPU",
        "colab_type": "code",
        "colab": {}
      },
      "source": [
        ""
      ],
      "execution_count": 0,
      "outputs": []
    },
    {
      "cell_type": "code",
      "metadata": {
        "id": "YZSyCSCVewLg",
        "colab_type": "code",
        "colab": {}
      },
      "source": [
        ""
      ],
      "execution_count": 0,
      "outputs": []
    },
    {
      "cell_type": "code",
      "metadata": {
        "id": "MsDvBJLZewJN",
        "colab_type": "code",
        "colab": {}
      },
      "source": [
        "classifier = Sequential()\n",
        "\n",
        "#adding the first hidden layer\n",
        "classifier.add(Dense(units = 8000, kernel_initializer = 'uniform', activation = 'relu', input_dim = 10012))\n",
        "\n",
        "# Adding the second hidden layer\n",
        "classifier.add(Dense(units = 5000, kernel_initializer = 'uniform', activation = 'relu'))\n",
        "\n",
        "# Adding the third hidden layer\n",
        "classifier.add(Dense(units = 2000, kernel_initializer = 'uniform', activation = 'relu'))\n",
        "\n",
        "# Adding the fourth hidden layer\n",
        "classifier.add(Dense(units = 500, kernel_initializer = 'uniform', activation = 'relu'))\n",
        "\n",
        "# Adding the fifth hidden layer\n",
        "classifier.add(Dense(units = 100, kernel_initializer = 'uniform', activation = 'relu'))\n",
        "\n",
        "\n",
        "# Adding the output layer\n",
        "classifier.add(Dense(units = 1, kernel_initializer = 'uniform'))\n",
        "\n",
        "# Compiling the ANN\n",
        "classifier.compile(optimizer = 'adam', loss = 'mean_absolute_error')"
      ],
      "execution_count": 0,
      "outputs": []
    },
    {
      "cell_type": "code",
      "metadata": {
        "id": "w5WAnWMUrrqo",
        "colab_type": "code",
        "colab": {
          "base_uri": "https://localhost:8080/",
          "height": 340
        },
        "outputId": "44d3eb1d-e4ca-452f-8792-4e8043c43565"
      },
      "source": [
        "classifier.summary()"
      ],
      "execution_count": 33,
      "outputs": [
        {
          "output_type": "stream",
          "text": [
            "_________________________________________________________________\n",
            "Layer (type)                 Output Shape              Param #   \n",
            "=================================================================\n",
            "dense_1 (Dense)              (None, 8000)              80104000  \n",
            "_________________________________________________________________\n",
            "dense_2 (Dense)              (None, 5000)              40005000  \n",
            "_________________________________________________________________\n",
            "dense_3 (Dense)              (None, 2000)              10002000  \n",
            "_________________________________________________________________\n",
            "dense_4 (Dense)              (None, 500)               1000500   \n",
            "_________________________________________________________________\n",
            "dense_5 (Dense)              (None, 100)               50100     \n",
            "_________________________________________________________________\n",
            "dense_6 (Dense)              (None, 1)                 101       \n",
            "=================================================================\n",
            "Total params: 131,161,701\n",
            "Trainable params: 131,161,701\n",
            "Non-trainable params: 0\n",
            "_________________________________________________________________\n"
          ],
          "name": "stdout"
        }
      ]
    },
    {
      "cell_type": "code",
      "metadata": {
        "id": "CbBYR4zKgZzT",
        "colab_type": "code",
        "colab": {}
      },
      "source": [
        ""
      ],
      "execution_count": 0,
      "outputs": []
    },
    {
      "cell_type": "code",
      "metadata": {
        "id": "SXfS82NqoE2j",
        "colab_type": "code",
        "colab": {
          "base_uri": "https://localhost:8080/",
          "height": 3522
        },
        "outputId": "f75950c7-d88d-4a1a-9177-bb97d5af173f"
      },
      "source": [
        "classifier.fit(features_train , labels,epochs = 100 , batch_size = 1000)"
      ],
      "execution_count": 27,
      "outputs": [
        {
          "output_type": "stream",
          "text": [
            "W0624 13:03:52.494612 140603362891648 deprecation_wrapper.py:119] From /usr/local/lib/python3.6/dist-packages/keras/backend/tensorflow_backend.py:986: The name tf.assign_add is deprecated. Please use tf.compat.v1.assign_add instead.\n",
            "\n",
            "W0624 13:03:52.661423 140603362891648 deprecation_wrapper.py:119] From /usr/local/lib/python3.6/dist-packages/keras/backend/tensorflow_backend.py:973: The name tf.assign is deprecated. Please use tf.compat.v1.assign instead.\n",
            "\n"
          ],
          "name": "stderr"
        },
        {
          "output_type": "stream",
          "text": [
            "Epoch 1/100\n",
            "12976/12976 [==============================] - 8s 613us/step - loss: 4.4540\n",
            "Epoch 2/100\n",
            "12976/12976 [==============================] - 4s 282us/step - loss: 0.7576\n",
            "Epoch 3/100\n",
            "12976/12976 [==============================] - 4s 281us/step - loss: 0.5845\n",
            "Epoch 4/100\n",
            "12976/12976 [==============================] - 4s 284us/step - loss: 0.4531\n",
            "Epoch 5/100\n",
            "12976/12976 [==============================] - 4s 285us/step - loss: 0.3787\n",
            "Epoch 6/100\n",
            "12976/12976 [==============================] - 4s 285us/step - loss: 0.3674\n",
            "Epoch 7/100\n",
            "12976/12976 [==============================] - 4s 280us/step - loss: 0.3814\n",
            "Epoch 8/100\n",
            "12976/12976 [==============================] - 4s 283us/step - loss: 0.3055\n",
            "Epoch 9/100\n",
            "12976/12976 [==============================] - 4s 285us/step - loss: 0.2407\n",
            "Epoch 10/100\n",
            "12976/12976 [==============================] - 4s 283us/step - loss: 0.1999\n",
            "Epoch 11/100\n",
            "12976/12976 [==============================] - 4s 284us/step - loss: 0.1732\n",
            "Epoch 12/100\n",
            "12976/12976 [==============================] - 4s 284us/step - loss: 0.1557\n",
            "Epoch 13/100\n",
            "12976/12976 [==============================] - 4s 285us/step - loss: 0.1444\n",
            "Epoch 14/100\n",
            "12976/12976 [==============================] - 4s 286us/step - loss: 0.1350\n",
            "Epoch 15/100\n",
            "12976/12976 [==============================] - 4s 287us/step - loss: 0.1295\n",
            "Epoch 16/100\n",
            "12976/12976 [==============================] - 4s 286us/step - loss: 0.1227\n",
            "Epoch 17/100\n",
            "12976/12976 [==============================] - 4s 288us/step - loss: 0.1179\n",
            "Epoch 18/100\n",
            "12976/12976 [==============================] - 4s 288us/step - loss: 0.1122\n",
            "Epoch 19/100\n",
            "12976/12976 [==============================] - 4s 288us/step - loss: 0.1091\n",
            "Epoch 20/100\n",
            "12976/12976 [==============================] - 4s 287us/step - loss: 0.1010\n",
            "Epoch 21/100\n",
            "12976/12976 [==============================] - 4s 286us/step - loss: 0.0971\n",
            "Epoch 22/100\n",
            "12976/12976 [==============================] - 4s 287us/step - loss: 0.0941\n",
            "Epoch 23/100\n",
            "12976/12976 [==============================] - 4s 289us/step - loss: 0.0935\n",
            "Epoch 24/100\n",
            "12976/12976 [==============================] - 4s 287us/step - loss: 0.0930\n",
            "Epoch 25/100\n",
            "12976/12976 [==============================] - 4s 291us/step - loss: 0.0838\n",
            "Epoch 26/100\n",
            "12976/12976 [==============================] - 4s 288us/step - loss: 0.0766\n",
            "Epoch 27/100\n",
            "12976/12976 [==============================] - 4s 291us/step - loss: 0.0778\n",
            "Epoch 28/100\n",
            "12976/12976 [==============================] - 4s 289us/step - loss: 0.0814\n",
            "Epoch 29/100\n",
            "12976/12976 [==============================] - 4s 290us/step - loss: 0.0784\n",
            "Epoch 30/100\n",
            "12976/12976 [==============================] - 4s 290us/step - loss: 0.0687\n",
            "Epoch 31/100\n",
            "12976/12976 [==============================] - 4s 289us/step - loss: 0.0633\n",
            "Epoch 32/100\n",
            "12976/12976 [==============================] - 4s 291us/step - loss: 0.0643\n",
            "Epoch 33/100\n",
            "12976/12976 [==============================] - 4s 292us/step - loss: 0.0645\n",
            "Epoch 34/100\n",
            "12976/12976 [==============================] - 4s 291us/step - loss: 0.0608\n",
            "Epoch 35/100\n",
            "12976/12976 [==============================] - 4s 291us/step - loss: 0.0596\n",
            "Epoch 36/100\n",
            "12976/12976 [==============================] - 4s 291us/step - loss: 0.0639\n",
            "Epoch 37/100\n",
            "12976/12976 [==============================] - 4s 290us/step - loss: 0.0628\n",
            "Epoch 38/100\n",
            "12976/12976 [==============================] - 4s 290us/step - loss: 0.0621\n",
            "Epoch 39/100\n",
            "12976/12976 [==============================] - 4s 290us/step - loss: 0.0629\n",
            "Epoch 40/100\n",
            "12976/12976 [==============================] - 4s 292us/step - loss: 0.0594\n",
            "Epoch 41/100\n",
            "12976/12976 [==============================] - 4s 293us/step - loss: 0.0559\n",
            "Epoch 42/100\n",
            "12976/12976 [==============================] - 4s 292us/step - loss: 0.0505\n",
            "Epoch 43/100\n",
            "12976/12976 [==============================] - 4s 294us/step - loss: 0.0508\n",
            "Epoch 44/100\n",
            "12976/12976 [==============================] - 4s 292us/step - loss: 0.0484\n",
            "Epoch 45/100\n",
            "12976/12976 [==============================] - 4s 293us/step - loss: 0.0524\n",
            "Epoch 46/100\n",
            "12976/12976 [==============================] - 4s 294us/step - loss: 0.0526\n",
            "Epoch 47/100\n",
            "12976/12976 [==============================] - 4s 294us/step - loss: 0.0499\n",
            "Epoch 48/100\n",
            "12976/12976 [==============================] - 4s 295us/step - loss: 0.0467\n",
            "Epoch 49/100\n",
            "12976/12976 [==============================] - 4s 294us/step - loss: 0.0472\n",
            "Epoch 50/100\n",
            "12976/12976 [==============================] - 4s 295us/step - loss: 0.0485\n",
            "Epoch 51/100\n",
            "12976/12976 [==============================] - 4s 294us/step - loss: 0.0503\n",
            "Epoch 52/100\n",
            "12976/12976 [==============================] - 4s 295us/step - loss: 0.0491\n",
            "Epoch 53/100\n",
            "12976/12976 [==============================] - 4s 293us/step - loss: 0.0456\n",
            "Epoch 54/100\n",
            "12976/12976 [==============================] - 4s 295us/step - loss: 0.0461\n",
            "Epoch 55/100\n",
            "12976/12976 [==============================] - 4s 293us/step - loss: 0.0482\n",
            "Epoch 56/100\n",
            "12976/12976 [==============================] - 4s 293us/step - loss: 0.0595\n",
            "Epoch 57/100\n",
            "12976/12976 [==============================] - 4s 295us/step - loss: 0.0589\n",
            "Epoch 58/100\n",
            "12976/12976 [==============================] - 4s 294us/step - loss: 0.0497\n",
            "Epoch 59/100\n",
            "12976/12976 [==============================] - 4s 296us/step - loss: 0.0448\n",
            "Epoch 60/100\n",
            "12976/12976 [==============================] - 4s 294us/step - loss: 0.0432\n",
            "Epoch 61/100\n",
            "12976/12976 [==============================] - 4s 295us/step - loss: 0.0394\n",
            "Epoch 62/100\n",
            "12976/12976 [==============================] - 4s 295us/step - loss: 0.0393\n",
            "Epoch 63/100\n",
            "12976/12976 [==============================] - 4s 295us/step - loss: 0.0405\n",
            "Epoch 64/100\n",
            "12976/12976 [==============================] - 4s 295us/step - loss: 0.0396\n",
            "Epoch 65/100\n",
            "12976/12976 [==============================] - 4s 295us/step - loss: 0.0397\n",
            "Epoch 66/100\n",
            "12976/12976 [==============================] - 4s 295us/step - loss: 0.0421\n",
            "Epoch 67/100\n",
            "12976/12976 [==============================] - 4s 297us/step - loss: 0.0397\n",
            "Epoch 68/100\n",
            "12976/12976 [==============================] - 4s 296us/step - loss: 0.0381\n",
            "Epoch 69/100\n",
            "12976/12976 [==============================] - 4s 297us/step - loss: 0.0393\n",
            "Epoch 70/100\n",
            "12976/12976 [==============================] - 4s 297us/step - loss: 0.0396\n",
            "Epoch 71/100\n",
            "12976/12976 [==============================] - 4s 296us/step - loss: 0.0373\n",
            "Epoch 72/100\n",
            "12976/12976 [==============================] - 4s 297us/step - loss: 0.0350\n",
            "Epoch 73/100\n",
            "12976/12976 [==============================] - 4s 296us/step - loss: 0.0394\n",
            "Epoch 74/100\n",
            "12976/12976 [==============================] - 4s 296us/step - loss: 0.0411\n",
            "Epoch 75/100\n",
            "12976/12976 [==============================] - 4s 297us/step - loss: 0.0376\n",
            "Epoch 76/100\n",
            "12976/12976 [==============================] - 4s 298us/step - loss: 0.0366\n",
            "Epoch 77/100\n",
            "12976/12976 [==============================] - 4s 297us/step - loss: 0.0364\n",
            "Epoch 78/100\n",
            "12976/12976 [==============================] - 4s 296us/step - loss: 0.0379\n",
            "Epoch 79/100\n",
            "12976/12976 [==============================] - 4s 298us/step - loss: 0.0377\n",
            "Epoch 80/100\n",
            "12976/12976 [==============================] - 4s 298us/step - loss: 0.0348\n",
            "Epoch 81/100\n",
            "12976/12976 [==============================] - 4s 297us/step - loss: 0.0331\n",
            "Epoch 82/100\n",
            "12976/12976 [==============================] - 4s 298us/step - loss: 0.0354\n",
            "Epoch 83/100\n",
            "12976/12976 [==============================] - 4s 297us/step - loss: 0.0382\n",
            "Epoch 84/100\n",
            "12976/12976 [==============================] - 4s 297us/step - loss: 0.0380\n",
            "Epoch 85/100\n",
            "12976/12976 [==============================] - 4s 299us/step - loss: 0.0398\n",
            "Epoch 86/100\n",
            "12976/12976 [==============================] - 4s 298us/step - loss: 0.0381\n",
            "Epoch 87/100\n",
            "12976/12976 [==============================] - 4s 298us/step - loss: 0.0354\n",
            "Epoch 88/100\n",
            "12976/12976 [==============================] - 4s 298us/step - loss: 0.0360\n",
            "Epoch 89/100\n",
            "12976/12976 [==============================] - 4s 299us/step - loss: 0.0340\n",
            "Epoch 90/100\n",
            "12976/12976 [==============================] - 4s 299us/step - loss: 0.0335\n",
            "Epoch 91/100\n",
            "12976/12976 [==============================] - 4s 297us/step - loss: 0.0348\n",
            "Epoch 92/100\n",
            "12976/12976 [==============================] - 4s 298us/step - loss: 0.0331\n",
            "Epoch 93/100\n",
            "12976/12976 [==============================] - 4s 299us/step - loss: 0.0350\n",
            "Epoch 94/100\n",
            "12976/12976 [==============================] - 4s 299us/step - loss: 0.0326\n",
            "Epoch 95/100\n",
            "12976/12976 [==============================] - 4s 298us/step - loss: 0.0318\n",
            "Epoch 96/100\n",
            "12976/12976 [==============================] - 4s 298us/step - loss: 0.0350\n",
            "Epoch 97/100\n",
            "12976/12976 [==============================] - 4s 297us/step - loss: 0.0352\n",
            "Epoch 98/100\n",
            "12976/12976 [==============================] - 4s 300us/step - loss: 0.0328\n",
            "Epoch 99/100\n",
            "12976/12976 [==============================] - 4s 301us/step - loss: 0.0343\n",
            "Epoch 100/100\n",
            "12976/12976 [==============================] - 4s 304us/step - loss: 0.0312\n"
          ],
          "name": "stdout"
        },
        {
          "output_type": "execute_result",
          "data": {
            "text/plain": [
              "<keras.callbacks.History at 0x7fe092f99f28>"
            ]
          },
          "metadata": {
            "tags": []
          },
          "execution_count": 27
        }
      ]
    },
    {
      "cell_type": "code",
      "metadata": {
        "id": "k_91-fUqjBV9",
        "colab_type": "code",
        "colab": {}
      },
      "source": [
        ""
      ],
      "execution_count": 0,
      "outputs": []
    },
    {
      "cell_type": "code",
      "metadata": {
        "id": "mFyou3RCjBS8",
        "colab_type": "code",
        "colab": {}
      },
      "source": [
        "df_test = 0\n",
        "valid_score = 0"
      ],
      "execution_count": 0,
      "outputs": []
    },
    {
      "cell_type": "code",
      "metadata": {
        "id": "EVLRf41gjBQc",
        "colab_type": "code",
        "colab": {}
      },
      "source": [
        "df_test = pd.read_csv('valid_set.tsv' , delimiter = '\\t' , encoding = 'charmap')\n",
        "valid_score = pd.read_csv('valid_sample_submission_5_column.csv' , encoding = 'charmap')"
      ],
      "execution_count": 0,
      "outputs": []
    },
    {
      "cell_type": "code",
      "metadata": {
        "id": "iCVIwkmNrsBz",
        "colab_type": "code",
        "colab": {}
      },
      "source": [
        "df_test.head(),valid_score.head()"
      ],
      "execution_count": 0,
      "outputs": []
    },
    {
      "cell_type": "code",
      "metadata": {
        "id": "EPXRqnWaxYTa",
        "colab_type": "code",
        "colab": {}
      },
      "source": [
        "len(df_test['essay_id']),len(valid_score['essay_id'])"
      ],
      "execution_count": 0,
      "outputs": []
    },
    {
      "cell_type": "code",
      "metadata": {
        "id": "gRMvp5jYrm4F",
        "colab_type": "code",
        "colab": {}
      },
      "source": [
        "list1 = []\n",
        "def present(x):\n",
        "  if int(x) not in list1:\n",
        "    list1.append(int(x))\n",
        "    return 1\n",
        "  else:\n",
        "    return np.NaN\n",
        "valid_score['present'] = valid_score['essay_id'].apply(present)"
      ],
      "execution_count": 0,
      "outputs": []
    },
    {
      "cell_type": "code",
      "metadata": {
        "id": "6_OUp63isgrs",
        "colab_type": "code",
        "colab": {}
      },
      "source": [
        "valid_score['present'].unique()"
      ],
      "execution_count": 0,
      "outputs": []
    },
    {
      "cell_type": "code",
      "metadata": {
        "id": "eIlxU-dyzYI7",
        "colab_type": "code",
        "colab": {}
      },
      "source": [
        "valid_score = valid_score.dropna(axis = 0)"
      ],
      "execution_count": 0,
      "outputs": []
    },
    {
      "cell_type": "code",
      "metadata": {
        "id": "slCBxGMasqJE",
        "colab_type": "code",
        "colab": {
          "base_uri": "https://localhost:8080/",
          "height": 34
        },
        "outputId": "b55bff5a-cbcd-4f3f-ee99-a566820496f7"
      },
      "source": [
        "df_test.shape , valid_score.shape"
      ],
      "execution_count": 162,
      "outputs": [
        {
          "output_type": "execute_result",
          "data": {
            "text/plain": [
              "((4218, 5), (4218, 6))"
            ]
          },
          "metadata": {
            "tags": []
          },
          "execution_count": 162
        }
      ]
    },
    {
      "cell_type": "code",
      "metadata": {
        "id": "Q9vFGWuzz2Dh",
        "colab_type": "code",
        "colab": {
          "base_uri": "https://localhost:8080/",
          "height": 111
        },
        "outputId": "137d8bf8-5029-42e6-cba2-821e34e7010f"
      },
      "source": [
        "df_test.head(2)"
      ],
      "execution_count": 163,
      "outputs": [
        {
          "output_type": "execute_result",
          "data": {
            "text/html": [
              "<div>\n",
              "<style scoped>\n",
              "    .dataframe tbody tr th:only-of-type {\n",
              "        vertical-align: middle;\n",
              "    }\n",
              "\n",
              "    .dataframe tbody tr th {\n",
              "        vertical-align: top;\n",
              "    }\n",
              "\n",
              "    .dataframe thead th {\n",
              "        text-align: right;\n",
              "    }\n",
              "</style>\n",
              "<table border=\"1\" class=\"dataframe\">\n",
              "  <thead>\n",
              "    <tr style=\"text-align: right;\">\n",
              "      <th></th>\n",
              "      <th>essay_id</th>\n",
              "      <th>essay_set</th>\n",
              "      <th>essay</th>\n",
              "      <th>domain1_predictionid</th>\n",
              "      <th>domain2_predictionid</th>\n",
              "    </tr>\n",
              "  </thead>\n",
              "  <tbody>\n",
              "    <tr>\n",
              "      <th>0</th>\n",
              "      <td>1788</td>\n",
              "      <td>1</td>\n",
              "      <td>Dear @ORGANIZATION1, @CAPS1 more and more peop...</td>\n",
              "      <td>1788</td>\n",
              "      <td>NaN</td>\n",
              "    </tr>\n",
              "    <tr>\n",
              "      <th>1</th>\n",
              "      <td>1789</td>\n",
              "      <td>1</td>\n",
              "      <td>Dear @LOCATION1 Time @CAPS1 me tell you what I...</td>\n",
              "      <td>1789</td>\n",
              "      <td>NaN</td>\n",
              "    </tr>\n",
              "  </tbody>\n",
              "</table>\n",
              "</div>"
            ],
            "text/plain": [
              "   essay_id  essay_set  ... domain1_predictionid  domain2_predictionid\n",
              "0      1788          1  ...                 1788                   NaN\n",
              "1      1789          1  ...                 1789                   NaN\n",
              "\n",
              "[2 rows x 5 columns]"
            ]
          },
          "metadata": {
            "tags": []
          },
          "execution_count": 163
        }
      ]
    },
    {
      "cell_type": "code",
      "metadata": {
        "id": "fFr1MkLHzd0b",
        "colab_type": "code",
        "colab": {}
      },
      "source": [
        "df_test = df_test.iloc[:,[0,1,2]]"
      ],
      "execution_count": 0,
      "outputs": []
    },
    {
      "cell_type": "code",
      "metadata": {
        "id": "YwWWoWTksEf5",
        "colab_type": "code",
        "colab": {}
      },
      "source": [
        "df_test['sent_count'] = df_test['essay'].apply(sent_count)"
      ],
      "execution_count": 0,
      "outputs": []
    },
    {
      "cell_type": "code",
      "metadata": {
        "id": "BbkrJaml3k2l",
        "colab_type": "code",
        "colab": {}
      },
      "source": [
        "df_test['av_sent_len'] = df_test['essay'].apply(av_sent_len)"
      ],
      "execution_count": 0,
      "outputs": []
    },
    {
      "cell_type": "code",
      "metadata": {
        "id": "1FPH7kq83yX0",
        "colab_type": "code",
        "colab": {}
      },
      "source": [
        "df_test['essay'] = df_test['essay'].apply(clean_essay)"
      ],
      "execution_count": 0,
      "outputs": []
    },
    {
      "cell_type": "code",
      "metadata": {
        "id": "zxxIGtzL30A3",
        "colab_type": "code",
        "colab": {}
      },
      "source": [
        "df_test['word_count'] = df_test['essay'].apply(word_count)"
      ],
      "execution_count": 0,
      "outputs": []
    },
    {
      "cell_type": "code",
      "metadata": {
        "id": "3nz4xbQ1310c",
        "colab_type": "code",
        "colab": {}
      },
      "source": [
        "df_test['uni_word_count'] = df_test['essay'].apply(uni_word_count)"
      ],
      "execution_count": 0,
      "outputs": []
    },
    {
      "cell_type": "code",
      "metadata": {
        "id": "iGPRLO6733jF",
        "colab_type": "code",
        "colab": {}
      },
      "source": [
        "df_test['noun_count'] = df_test['essay'].apply(noun_count)"
      ],
      "execution_count": 0,
      "outputs": []
    },
    {
      "cell_type": "code",
      "metadata": {
        "id": "tcKs1yhj35Gu",
        "colab_type": "code",
        "colab": {}
      },
      "source": [
        "df_test['verb_count'] = df_test['essay'].apply(verb_count)"
      ],
      "execution_count": 0,
      "outputs": []
    },
    {
      "cell_type": "code",
      "metadata": {
        "id": "EvN3VlAw3uvA",
        "colab_type": "code",
        "colab": {}
      },
      "source": [
        "df1_test = df_test[df_test['essay_set'] == 1]\n",
        "df2_test = df_test[df_test['essay_set'] == 2]\n",
        "df3_test = df_test[df_test['essay_set'] == 3]\n",
        "df4_test = df_test[df_test['essay_set'] == 4]\n",
        "\n",
        "df5_test = df_test[df_test['essay_set'] == 5]\n",
        "df6_test = df_test[df_test['essay_set'] == 6]\n",
        "df7_test = df_test[df_test['essay_set'] == 7]\n",
        "df8_test = df_test[df_test['essay_set'] == 8]\n"
      ],
      "execution_count": 0,
      "outputs": []
    },
    {
      "cell_type": "code",
      "metadata": {
        "id": "dzK0EhBf3w7v",
        "colab_type": "code",
        "colab": {}
      },
      "source": [
        "valid_score1 = valid_score[valid_score['essay_set'] == 1]\n",
        "valid_score2 = valid_score[valid_score['essay_set'] == 2]\n",
        "valid_score3 = valid_score[valid_score['essay_set'] == 3]\n",
        "valid_score4 = valid_score[valid_score['essay_set'] == 4]\n",
        "\n",
        "valid_score5 = valid_score[valid_score['essay_set'] == 5]\n",
        "valid_score6 = valid_score[valid_score['essay_set'] == 6]\n",
        "valid_score7 = valid_score[valid_score['essay_set'] == 7]\n",
        "valid_score8 = valid_score[valid_score['essay_set'] == 8]\n",
        "\n"
      ],
      "execution_count": 0,
      "outputs": []
    },
    {
      "cell_type": "code",
      "metadata": {
        "id": "qmsN_vvmofXt",
        "colab_type": "code",
        "colab": {
          "base_uri": "https://localhost:8080/",
          "height": 153
        },
        "outputId": "2c6b3aef-f2d5-469a-97ac-24ca94f7767f"
      },
      "source": [
        "df1_test.shape ,df2_test.shape ,df3_test.shape ,df4_test.shape ,df5_test.shape ,df6_test.shape ,df7_test.shape ,df8_test.shape "
      ],
      "execution_count": 172,
      "outputs": [
        {
          "output_type": "execute_result",
          "data": {
            "text/plain": [
              "((589, 9),\n",
              " (600, 9),\n",
              " (568, 9),\n",
              " (586, 9),\n",
              " (601, 9),\n",
              " (600, 9),\n",
              " (441, 9),\n",
              " (233, 9))"
            ]
          },
          "metadata": {
            "tags": []
          },
          "execution_count": 172
        }
      ]
    },
    {
      "cell_type": "code",
      "metadata": {
        "id": "M7ia-s1j3bGJ",
        "colab_type": "code",
        "colab": {
          "base_uri": "https://localhost:8080/",
          "height": 153
        },
        "outputId": "fe24c895-a3b7-4045-9b73-471fb85260e9"
      },
      "source": [
        "valid_score1.shape,valid_score2.shape,valid_score3.shape,valid_score4.shape,valid_score5.shape,valid_score6.shape,valid_score7.shape,valid_score8.shape,"
      ],
      "execution_count": 174,
      "outputs": [
        {
          "output_type": "execute_result",
          "data": {
            "text/plain": [
              "((589, 6),\n",
              " (600, 6),\n",
              " (568, 6),\n",
              " (586, 6),\n",
              " (601, 6),\n",
              " (600, 6),\n",
              " (441, 6),\n",
              " (233, 6))"
            ]
          },
          "metadata": {
            "tags": []
          },
          "execution_count": 174
        }
      ]
    },
    {
      "cell_type": "code",
      "metadata": {
        "id": "2WtLCvFV2ral",
        "colab_type": "code",
        "colab": {}
      },
      "source": [
        ""
      ],
      "execution_count": 0,
      "outputs": []
    },
    {
      "cell_type": "code",
      "metadata": {
        "id": "zBGIcv812xWj",
        "colab_type": "code",
        "colab": {}
      },
      "source": [
        ""
      ],
      "execution_count": 0,
      "outputs": []
    },
    {
      "cell_type": "code",
      "metadata": {
        "id": "VG2ycTYV3i9g",
        "colab_type": "code",
        "colab": {}
      },
      "source": [
        "features_test1 = cv.transform(df1_test['essay'])\n",
        "features_test1 = features_test1.toarray()"
      ],
      "execution_count": 0,
      "outputs": []
    },
    {
      "cell_type": "code",
      "metadata": {
        "id": "JF3kAyNC0JbI",
        "colab_type": "code",
        "colab": {
          "base_uri": "https://localhost:8080/",
          "height": 34
        },
        "outputId": "f36283fe-0bb1-4308-d0e2-42414d17a68b"
      },
      "source": [
        "features_test1.shape"
      ],
      "execution_count": 199,
      "outputs": [
        {
          "output_type": "execute_result",
          "data": {
            "text/plain": [
              "(589, 10000)"
            ]
          },
          "metadata": {
            "tags": []
          },
          "execution_count": 199
        }
      ]
    },
    {
      "cell_type": "code",
      "metadata": {
        "id": "JWFhyYHR4XQq",
        "colab_type": "code",
        "colab": {
          "base_uri": "https://localhost:8080/",
          "height": 145
        },
        "outputId": "48c40987-d694-4779-fe57-903596ef5c9d"
      },
      "source": [
        "df1_test.head(2)"
      ],
      "execution_count": 195,
      "outputs": [
        {
          "output_type": "execute_result",
          "data": {
            "text/html": [
              "<div>\n",
              "<style scoped>\n",
              "    .dataframe tbody tr th:only-of-type {\n",
              "        vertical-align: middle;\n",
              "    }\n",
              "\n",
              "    .dataframe tbody tr th {\n",
              "        vertical-align: top;\n",
              "    }\n",
              "\n",
              "    .dataframe thead th {\n",
              "        text-align: right;\n",
              "    }\n",
              "</style>\n",
              "<table border=\"1\" class=\"dataframe\">\n",
              "  <thead>\n",
              "    <tr style=\"text-align: right;\">\n",
              "      <th></th>\n",
              "      <th>essay_id</th>\n",
              "      <th>essay_set</th>\n",
              "      <th>essay</th>\n",
              "      <th>sent_count</th>\n",
              "      <th>av_sent_len</th>\n",
              "      <th>word_count</th>\n",
              "      <th>uni_word_count</th>\n",
              "      <th>noun_count</th>\n",
              "      <th>verb_count</th>\n",
              "    </tr>\n",
              "  </thead>\n",
              "  <tbody>\n",
              "    <tr>\n",
              "      <th>0</th>\n",
              "      <td>1788</td>\n",
              "      <td>1</td>\n",
              "      <td>Dear more and more people start to use compute...</td>\n",
              "      <td>13</td>\n",
              "      <td>17</td>\n",
              "      <td>221</td>\n",
              "      <td>117</td>\n",
              "      <td>50</td>\n",
              "      <td>47</td>\n",
              "    </tr>\n",
              "    <tr>\n",
              "      <th>1</th>\n",
              "      <td>1789</td>\n",
              "      <td>1</td>\n",
              "      <td>Dear Time me tell you what I think of computer...</td>\n",
              "      <td>21</td>\n",
              "      <td>14</td>\n",
              "      <td>306</td>\n",
              "      <td>149</td>\n",
              "      <td>67</td>\n",
              "      <td>61</td>\n",
              "    </tr>\n",
              "  </tbody>\n",
              "</table>\n",
              "</div>"
            ],
            "text/plain": [
              "   essay_id  essay_set  ... noun_count  verb_count\n",
              "0      1788          1  ...         50          47\n",
              "1      1789          1  ...         67          61\n",
              "\n",
              "[2 rows x 9 columns]"
            ]
          },
          "metadata": {
            "tags": []
          },
          "execution_count": 195
        }
      ]
    },
    {
      "cell_type": "code",
      "metadata": {
        "id": "6dEq03cJ6CWX",
        "colab_type": "code",
        "colab": {
          "base_uri": "https://localhost:8080/",
          "height": 34
        },
        "outputId": "763a42ef-a149-4b02-8b45-f75c53021328"
      },
      "source": [
        "features_test1.shape , temp_test1.shape"
      ],
      "execution_count": 200,
      "outputs": [
        {
          "output_type": "execute_result",
          "data": {
            "text/plain": [
              "((589, 10000), (589, 6))"
            ]
          },
          "metadata": {
            "tags": []
          },
          "execution_count": 200
        }
      ]
    },
    {
      "cell_type": "code",
      "metadata": {
        "id": "UtFq1ASesEdC",
        "colab_type": "code",
        "colab": {}
      },
      "source": [
        "temp_test1 = df1_test.iloc[:,[1,3,5,6,7,8]].values\n",
        "features_test1 = np.hstack((temp_test1 , features_test1))\n"
      ],
      "execution_count": 0,
      "outputs": []
    },
    {
      "cell_type": "code",
      "metadata": {
        "id": "Y1ppUNxNsEa5",
        "colab_type": "code",
        "colab": {
          "base_uri": "https://localhost:8080/",
          "height": 34
        },
        "outputId": "87c6bdce-688e-4609-d4bf-ddb26764dce5"
      },
      "source": [
        "features_test1.shape"
      ],
      "execution_count": 202,
      "outputs": [
        {
          "output_type": "execute_result",
          "data": {
            "text/plain": [
              "(589, 10006)"
            ]
          },
          "metadata": {
            "tags": []
          },
          "execution_count": 202
        }
      ]
    },
    {
      "cell_type": "code",
      "metadata": {
        "id": "MEXQT8wE6bLh",
        "colab_type": "code",
        "colab": {
          "base_uri": "https://localhost:8080/",
          "height": 34
        },
        "outputId": "db13c5b5-42c4-4d87-d119-e414799cb8b1"
      },
      "source": [
        "features_test1 = onehotencoder.transform(features_test1).toarray()\n",
        "features_test1.shape"
      ],
      "execution_count": 207,
      "outputs": [
        {
          "output_type": "execute_result",
          "data": {
            "text/plain": [
              "(589, 10013)"
            ]
          },
          "metadata": {
            "tags": []
          },
          "execution_count": 207
        }
      ]
    },
    {
      "cell_type": "code",
      "metadata": {
        "id": "_RMy6JRj6jRq",
        "colab_type": "code",
        "colab": {
          "base_uri": "https://localhost:8080/",
          "height": 34
        },
        "outputId": "7655a84e-8147-435c-b9a7-9df3e15229a6"
      },
      "source": [
        "features_test1 = features_test1[:,1:]\n",
        "features_test1.shape"
      ],
      "execution_count": 208,
      "outputs": [
        {
          "output_type": "execute_result",
          "data": {
            "text/plain": [
              "(589, 10012)"
            ]
          },
          "metadata": {
            "tags": []
          },
          "execution_count": 208
        }
      ]
    },
    {
      "cell_type": "code",
      "metadata": {
        "id": "nybpfb4oMZOJ",
        "colab_type": "code",
        "colab": {}
      },
      "source": [
        "features_test1 = sc.transform(features_test1)"
      ],
      "execution_count": 0,
      "outputs": []
    },
    {
      "cell_type": "code",
      "metadata": {
        "id": "sjNQ0pHk3d10",
        "colab_type": "code",
        "colab": {
          "base_uri": "https://localhost:8080/",
          "height": 34
        },
        "outputId": "8d0b532e-4652-41b6-8845-c91950b5606a"
      },
      "source": [
        "features_test1.shape"
      ],
      "execution_count": 210,
      "outputs": [
        {
          "output_type": "execute_result",
          "data": {
            "text/plain": [
              "(589, 10012)"
            ]
          },
          "metadata": {
            "tags": []
          },
          "execution_count": 210
        }
      ]
    },
    {
      "cell_type": "code",
      "metadata": {
        "id": "edrNoU7f3dzF",
        "colab_type": "code",
        "colab": {}
      },
      "source": [
        "labels_pred1 = classifier.predict(features_test1)"
      ],
      "execution_count": 0,
      "outputs": []
    },
    {
      "cell_type": "code",
      "metadata": {
        "id": "nRv9ww933dwH",
        "colab_type": "code",
        "colab": {
          "base_uri": "https://localhost:8080/",
          "height": 187
        },
        "outputId": "448f3f8f-d015-465c-9e8b-a3a73c61b267"
      },
      "source": [
        "labels_pred1[:10]"
      ],
      "execution_count": 216,
      "outputs": [
        {
          "output_type": "execute_result",
          "data": {
            "text/plain": [
              "array([[ 0.06511321],\n",
              "       [-1.0105864 ],\n",
              "       [ 0.2230685 ],\n",
              "       [ 0.22580138],\n",
              "       [-0.24894682],\n",
              "       [ 0.2712434 ],\n",
              "       [ 0.01777027],\n",
              "       [ 0.5829927 ],\n",
              "       [-0.31787428],\n",
              "       [ 0.6215002 ]], dtype=float32)"
            ]
          },
          "metadata": {
            "tags": []
          },
          "execution_count": 216
        }
      ]
    },
    {
      "cell_type": "code",
      "metadata": {
        "id": "GiAFQ26E3dsc",
        "colab_type": "code",
        "colab": {}
      },
      "source": [
        "labels_pred1 = sc1.inverse_transform(labels_pred1)"
      ],
      "execution_count": 0,
      "outputs": []
    },
    {
      "cell_type": "code",
      "metadata": {
        "id": "VCRZqQnf7cMZ",
        "colab_type": "code",
        "colab": {}
      },
      "source": [
        "labels_pred1 = labels_pred1.astype('int32')"
      ],
      "execution_count": 0,
      "outputs": []
    },
    {
      "cell_type": "code",
      "metadata": {
        "id": "ziVmUWQo8yNH",
        "colab_type": "code",
        "colab": {
          "base_uri": "https://localhost:8080/",
          "height": 357
        },
        "outputId": "5fdaae1f-9062-4049-e69b-e3f34a5acd71"
      },
      "source": [
        "labels_pred1[:10],valid_score1['predicted_score'][:10]"
      ],
      "execution_count": 228,
      "outputs": [
        {
          "output_type": "execute_result",
          "data": {
            "text/plain": [
              "(array([[8],\n",
              "        [6],\n",
              "        [8],\n",
              "        [8],\n",
              "        [8],\n",
              "        [8],\n",
              "        [8],\n",
              "        [9],\n",
              "        [8],\n",
              "        [9]], dtype=int32), 0     7\n",
              " 1     8\n",
              " 2     9\n",
              " 3     9\n",
              " 4     9\n",
              " 5     9\n",
              " 6     9\n",
              " 7    11\n",
              " 8     8\n",
              " 9    10\n",
              " Name: predicted_score, dtype: int64)"
            ]
          },
          "metadata": {
            "tags": []
          },
          "execution_count": 228
        }
      ]
    },
    {
      "cell_type": "code",
      "metadata": {
        "id": "lbQZwwcwERBz",
        "colab_type": "code",
        "colab": {}
      },
      "source": [
        ""
      ],
      "execution_count": 0,
      "outputs": []
    },
    {
      "cell_type": "code",
      "metadata": {
        "id": "GdbkcXPN7df0",
        "colab_type": "code",
        "colab": {
          "base_uri": "https://localhost:8080/",
          "height": 514
        },
        "outputId": "eccc460b-804e-45d3-f1fe-653d7fe07b18"
      },
      "source": [
        "plt.figure(figsize=[8,8])\n",
        "plt.title(\"Comparision of actual and predicted score\")\n",
        "plt.plot(df1_test['essay_id'][:50],labels_pred1[:50], color = 'red',label = 'Predicted score')\n",
        "plt.plot(df1_test['essay_id'][:50],valid_score1['predicted_score'][:50] , color = 'blue' , label = 'Actual score')\n",
        "plt.ylabel(\"Score\")\n",
        "plt.xlabel(\"Essay_id\")\n",
        "plt.legend()\n",
        "plt.grid()\n",
        "plt.show()\n",
        "\n"
      ],
      "execution_count": 244,
      "outputs": [
        {
          "output_type": "display_data",
          "data": {
            "image/png": "[encoded data removed]",
            "text/plain": [
              "<Figure size 576x576 with 1 Axes>"
            ]
          },
          "metadata": {
            "tags": []
          }
        }
      ]
    },
    {
      "cell_type": "code",
      "metadata": {
        "id": "1J8twSUP7dcf",
        "colab_type": "code",
        "colab": {}
      },
      "source": [
        ""
      ],
      "execution_count": 0,
      "outputs": []
    },
    {
      "cell_type": "code",
      "metadata": {
        "id": "bH4n_cB7OYdl",
        "colab_type": "code",
        "colab": {}
      },
      "source": [
        ""
      ],
      "execution_count": 0,
      "outputs": []
    }
  ]
}